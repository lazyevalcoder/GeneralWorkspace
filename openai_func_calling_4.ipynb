{
 "cells": [
  {
   "cell_type": "markdown",
   "id": "22c60d41",
   "metadata": {},
   "source": [
    "### This example shows simple single tool usage, if the LLM decides it needs tool it will call the tool else print regular response"
   ]
  },
  {
   "cell_type": "code",
   "execution_count": 1,
   "id": "698a28df",
   "metadata": {},
   "outputs": [],
   "source": [
    "import json\n",
    "from openai import OpenAI"
   ]
  },
  {
   "cell_type": "code",
   "execution_count": 2,
   "id": "28ea545d",
   "metadata": {},
   "outputs": [],
   "source": [
    "client = OpenAI(\n",
    "    base_url='http://localhost:11434/v1',\n",
    "    api_key='ollama',  # required, but unused\n",
    ")"
   ]
  },
  {
   "cell_type": "code",
   "execution_count": 3,
   "id": "ce76dcf0",
   "metadata": {},
   "outputs": [],
   "source": [
    "def calculate(operation, num1, num2):\n",
    "    if operation == 'add':\n",
    "        result = num1 + num2\n",
    "    elif operation == 'subtract':\n",
    "        result = num1 - num2\n",
    "    elif operation == 'multiply':\n",
    "        result = num1 * num2\n",
    "    elif operation == 'divide':\n",
    "        result = num1 / num2 if num2 != 0 else 'Error: Division by zero'\n",
    "    else:\n",
    "        result = 'Error: Unknown operation'\n",
    "    \n",
    "    return f\"Tool calling response: The result of {operation}ing {num1} and {num2} is: {result}\""
   ]
  },
  {
   "cell_type": "code",
   "execution_count": 4,
   "id": "70ddd212",
   "metadata": {},
   "outputs": [],
   "source": [
    "def handle_response(response):\n",
    "    # Check for tool calls or direct message content\n",
    "    if response.choices and response.choices[0].finish_reason == 'tool_calls':\n",
    "        tool_calls = response.choices[0].message.tool_calls  # Accessing tool_calls directly\n",
    "        for tool_call in tool_calls:\n",
    "            if tool_call.function.name == 'calculate':\n",
    "                # Parse the arguments from JSON string to dictionary\n",
    "                arguments = json.loads(tool_call.function.arguments)\n",
    "                result = calculate(arguments['operation'], arguments['num1'], arguments['num2'])\n",
    "                print(result)\n",
    "    elif response.choices:\n",
    "        # Directly print the model's response if it's not a tool call\n",
    "        print(\"Model response:\", response.choices[0].message.content)"
   ]
  },
  {
   "cell_type": "code",
   "execution_count": 5,
   "id": "1028ee76",
   "metadata": {},
   "outputs": [],
   "source": [
    "# Provide a calculator tool to the model\n",
    "tools = [{\n",
    "    'type': 'function',\n",
    "    'function': {\n",
    "        'name': 'calculate',\n",
    "        'description': 'Perform a basic arithmetic operation',\n",
    "        'parameters': {\n",
    "            'type': 'object',\n",
    "            'properties': {\n",
    "                'operation': {\n",
    "                    'type': 'string',\n",
    "                    'description': 'The operation to perform (add, subtract, multiply, divide)',\n",
    "                },\n",
    "                'num1': {\n",
    "                    'type': 'number',\n",
    "                    'description': 'First number',\n",
    "                },\n",
    "                'num2': {\n",
    "                    'type': 'number',\n",
    "                    'description': 'Second number',\n",
    "                },\n",
    "            },\n",
    "            'required': ['operation', 'num1', 'num2'],\n",
    "        },\n",
    "    },\n",
    "}]"
   ]
  },
  {
   "cell_type": "code",
   "execution_count": 6,
   "id": "67c76818",
   "metadata": {},
   "outputs": [],
   "source": [
    "query1 = \"What is the capital of France?\""
   ]
  },
  {
   "cell_type": "code",
   "execution_count": 9,
   "id": "bce88f55",
   "metadata": {},
   "outputs": [
    {
     "name": "stdout",
     "output_type": "stream",
     "text": [
      "Model response: The capital of France is Paris.\n"
     ]
    }
   ],
   "source": [
    "response = client.chat.completions.create(\n",
    "    model='qwen2.5:14b-instruct-q5_K_M',\n",
    "    messages=[{'role': 'user', 'content': query1}],\n",
    "    tools=tools,\n",
    "    tool_choice=\"auto\"\n",
    ")\n",
    "\n",
    "# Handle the response, which includes the function calling logic\n",
    "handle_response(response)"
   ]
  },
  {
   "cell_type": "code",
   "execution_count": 10,
   "id": "9143ef61",
   "metadata": {},
   "outputs": [],
   "source": [
    "query2 = \"What is the product of 78 and 54?\""
   ]
  },
  {
   "cell_type": "code",
   "execution_count": 11,
   "id": "33a42be0",
   "metadata": {},
   "outputs": [
    {
     "name": "stdout",
     "output_type": "stream",
     "text": [
      "Tool calling response: The result of multiplying 78 and 54 is: 4212\n"
     ]
    }
   ],
   "source": [
    "response = client.chat.completions.create(\n",
    "    model='qwen2.5:14b-instruct-q5_K_M',\n",
    "    messages=[{'role': 'user', 'content': query2}],\n",
    "    tools=tools,\n",
    "    tool_choice=\"auto\"\n",
    ")\n",
    "\n",
    "# Handle the response, which includes the function calling logic\n",
    "handle_response(response)"
   ]
  },
  {
   "cell_type": "code",
   "execution_count": null,
   "id": "a303fc1d",
   "metadata": {},
   "outputs": [],
   "source": []
  }
 ],
 "metadata": {
  "kernelspec": {
   "display_name": "Python 3 (ipykernel)",
   "language": "python",
   "name": "python3"
  },
  "language_info": {
   "codemirror_mode": {
    "name": "ipython",
    "version": 3
   },
   "file_extension": ".py",
   "mimetype": "text/x-python",
   "name": "python",
   "nbconvert_exporter": "python",
   "pygments_lexer": "ipython3",
   "version": "3.11.5"
  }
 },
 "nbformat": 4,
 "nbformat_minor": 5
}
