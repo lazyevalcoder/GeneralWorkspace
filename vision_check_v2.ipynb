{
 "cells": [
  {
   "cell_type": "code",
   "execution_count": 1,
   "id": "3c122020",
   "metadata": {},
   "outputs": [],
   "source": [
    "#1 Importing necessary libraries\n",
    "from openai import OpenAI\n",
    "import base64\n",
    "import requests"
   ]
  },
  {
   "cell_type": "code",
   "execution_count": 2,
   "id": "d884ea30",
   "metadata": {},
   "outputs": [],
   "source": [
    "#2 Setting up the API\n",
    "client = OpenAI(\n",
    "base_url = 'http://localhost:11434/v1',\n",
    "api_key='ollama', # required, but unused\n",
    ")"
   ]
  },
  {
   "cell_type": "code",
   "execution_count": 3,
   "id": "fa6c9191",
   "metadata": {},
   "outputs": [],
   "source": [
    "# Function to encode the image\n",
    "def encode_image(image_path):\n",
    "    with open(image_path, \"rb\") as image_file:\n",
    "        return base64.b64encode(image_file.read()).decode('utf-8')\n",
    "\n",
    "image_path = \"Images/McKinsey-Global-Payments.jpg\"\n",
    "base64_image = encode_image(image_path)"
   ]
  },
  {
   "cell_type": "code",
   "execution_count": 4,
   "id": "8cd7102f",
   "metadata": {},
   "outputs": [],
   "source": [
    "# Constructing the payload\n",
    "payload = {\n",
    "    \"model\": \"minicpm-v:8b-2.6-q8_0\",\n",
    "    \"messages\": [\n",
    "        {\n",
    "            \"role\": \"user\",\n",
    "            \"content\": [\n",
    "                {\n",
    "                    \"type\": \"text\",\n",
    "                    \"text\": \"What are the key takeaways in this slide? Explain in English\"\n",
    "                },\n",
    "                {\n",
    "                    \"type\": \"image_url\",\n",
    "                    \"image_url\": {\n",
    "                        \"url\": f\"data:image/jpeg;base64,{base64_image}\"\n",
    "                    }\n",
    "                }\n",
    "            ]\n",
    "        }\n",
    "    ],\n",
    "}"
   ]
  },
  {
   "cell_type": "code",
   "execution_count": 5,
   "id": "23ab1314",
   "metadata": {},
   "outputs": [],
   "source": [
    "# Using the openai library to send the request\n",
    "response = client.chat.completions.create(**payload)"
   ]
  },
  {
   "cell_type": "code",
   "execution_count": 6,
   "id": "4ce37536",
   "metadata": {},
   "outputs": [
    {
     "name": "stdout",
     "output_type": "stream",
     "text": [
      "ChatCompletion(id='chatcmpl-215', choices=[Choice(finish_reason='stop', index=0, logprobs=None, message=ChatCompletionMessage(content='The slide presents data on the recovery and growth of global payments revenue following a crisis. It highlights that despite an initial 12% p.a. decline in 2008, global payments revenues have experienced positive compound annual growth rates (CAGR) ranging from +5% to +8%, reaching US$ trillions by 2013-2018.\\n\\nKey details include:\\n- A significant contribution of Asia Pacific at a healthy rate: 56%.\\n- Overal CAGR for the period 2013–2018 is presented as both absolute terms (755 billion US$) and in percentage from total payments revenue, showing an average growth.', role='assistant', function_call=None, tool_calls=None))], created=1727535050, model='minicpm-v:8b-2.6-q8_0', object='chat.completion', system_fingerprint='fp_ollama', usage=CompletionUsage(completion_tokens=145, prompt_tokens=0, total_tokens=145))\n"
     ]
    }
   ],
   "source": [
    "# Print the response\n",
    "print(response)"
   ]
  },
  {
   "cell_type": "code",
   "execution_count": null,
   "id": "9cdf220e",
   "metadata": {},
   "outputs": [],
   "source": []
  }
 ],
 "metadata": {
  "kernelspec": {
   "display_name": "Python 3 (ipykernel)",
   "language": "python",
   "name": "python3"
  },
  "language_info": {
   "codemirror_mode": {
    "name": "ipython",
    "version": 3
   },
   "file_extension": ".py",
   "mimetype": "text/x-python",
   "name": "python",
   "nbconvert_exporter": "python",
   "pygments_lexer": "ipython3",
   "version": "3.11.5"
  }
 },
 "nbformat": 4,
 "nbformat_minor": 5
}
