{
 "cells": [
  {
   "cell_type": "markdown",
   "id": "160fbb78",
   "metadata": {},
   "source": [
    "### This example show structured extraction with multiple items/object"
   ]
  },
  {
   "cell_type": "code",
   "execution_count": 1,
   "id": "2a73bf84",
   "metadata": {},
   "outputs": [],
   "source": [
    "from openai import OpenAI"
   ]
  },
  {
   "cell_type": "code",
   "execution_count": 2,
   "id": "1a2174c7",
   "metadata": {},
   "outputs": [],
   "source": [
    "client = OpenAI(\n",
    "base_url = 'http://localhost:11434/v1',\n",
    "api_key='ollama', # required, but unused\n",
    ")"
   ]
  },
  {
   "cell_type": "code",
   "execution_count": 3,
   "id": "ac263945",
   "metadata": {},
   "outputs": [],
   "source": [
    "text = \"\"\"\n",
    "We are currently seeking a highly skilled data scientist to join our innovative team at the company's headquarters in\n",
    "San Francisco, CA. In this role, you will have the opportunity to work on complex data analysis and modeling projects that\n",
    "drive our strategic decisions. Requirements: Minimum 3 years of experience in data science with Python, AWS, Azure or GCP \n",
    "\"\"\"\n",
    "\n",
    "response = client.chat.completions.create(\n",
    "    model='llama3.1:8b-instruct-q8_0',\n",
    "    messages=[{'role': 'user', 'content': \n",
    "        text}],\n",
    "\n",
    "# provide a job information checking tool to the model\n",
    "    tools=[{\n",
    "      'type': 'function',\n",
    "      'function': {\n",
    "        'name': 'get_job_info',\n",
    "        'description': 'Get the job information from the text',\n",
    "        'parameters': {\n",
    "          'type': 'object',\n",
    "          'properties': {\n",
    "            'job_title': {\n",
    "              'type': 'string',\n",
    "              'description': 'Job title',\n",
    "            },\n",
    "              'location': {\n",
    "                  'type': 'string',\n",
    "                  'description': 'Work location',\n",
    "              },\n",
    "              'skills': {\n",
    "                  'type': 'string',\n",
    "                  'description': 'Skills required for the job'\n",
    "              }\n",
    "          },\n",
    "          'required': ['job_title', 'location', 'skills'],\n",
    "        },\n",
    "      },\n",
    "    },\n",
    "  ],\n",
    ")\n"
   ]
  },
  {
   "cell_type": "code",
   "execution_count": 4,
   "id": "33965f42",
   "metadata": {},
   "outputs": [
    {
     "name": "stdout",
     "output_type": "stream",
     "text": [
      "Choice(finish_reason='tool_calls', index=0, logprobs=None, message=ChatCompletionMessage(content='', role='assistant', function_call=None, tool_calls=[ChatCompletionMessageToolCall(id='call_v7pzzwhn', function=Function(arguments='{\"job_title\":\"Data Scientist\",\"location\":\"San Francisco, CA\",\"skills\":\"data analysis, data science, python, aws, azure, gcp\"}', name='get_job_info'), type='function')]))\n"
     ]
    }
   ],
   "source": [
    "print(response.choices[0])"
   ]
  },
  {
   "cell_type": "code",
   "execution_count": 5,
   "id": "c89d2b10",
   "metadata": {},
   "outputs": [
    {
     "name": "stdout",
     "output_type": "stream",
     "text": [
      "{\"job_title\":\"Data Scientist\",\"location\":\"San Francisco, CA\",\"skills\":\"data analysis, data science, python, aws, azure, gcp\"}\n"
     ]
    }
   ],
   "source": [
    "#Use this\n",
    "print(response.choices[0].message.tool_calls[0].function.arguments)"
   ]
  }
 ],
 "metadata": {
  "kernelspec": {
   "display_name": "Python 3 (ipykernel)",
   "language": "python",
   "name": "python3"
  },
  "language_info": {
   "codemirror_mode": {
    "name": "ipython",
    "version": 3
   },
   "file_extension": ".py",
   "mimetype": "text/x-python",
   "name": "python",
   "nbconvert_exporter": "python",
   "pygments_lexer": "ipython3",
   "version": "3.11.5"
  }
 },
 "nbformat": 4,
 "nbformat_minor": 5
}
