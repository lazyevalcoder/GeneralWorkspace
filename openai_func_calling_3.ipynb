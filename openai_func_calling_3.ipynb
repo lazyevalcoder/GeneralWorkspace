{
 "cells": [
  {
   "cell_type": "markdown",
   "id": "4286c907",
   "metadata": {},
   "source": [
    "### This example shows extracting info of multiple rows/entries. Ideal for task manager."
   ]
  },
  {
   "cell_type": "code",
   "execution_count": null,
   "id": "fc00acc6",
   "metadata": {},
   "outputs": [],
   "source": [
    "from openai import OpenAI\n",
    "import json"
   ]
  },
  {
   "cell_type": "code",
   "execution_count": null,
   "id": "fc3b5c81",
   "metadata": {},
   "outputs": [],
   "source": [
    "client = OpenAI(\n",
    "base_url = 'http://localhost:11434/v1',\n",
    "api_key='ollama', # required, but unused\n",
    ")"
   ]
  },
  {
   "cell_type": "code",
   "execution_count": null,
   "id": "a9799464",
   "metadata": {},
   "outputs": [],
   "source": [
    "text = \"\"\"\n",
    "Once upon a time in the bustling city of San Francisco, three friends found themselves at the crossroads of adventure and creativity. Maya, a spirited graphic designer from Mumbai, had a knack for transforming mundane ideas into vibrant visual stories. Jake, a laid-back software developer from Austin, loved nothing more than coding innovative apps that made life easier. Lastly, there was Lina, an energetic marketing strategist from Toronto, who could sell sand in a desert with her charismatic charm.\n",
    "\n",
    "The trio had met during their college years, bonding over late-night study sessions and shared dreams of making a mark in the tech world. As graduation approached, they decided to take a much-needed break and embark on a vacation to the scenic coastal town of Monterey.\n",
    "\n",
    "On their first evening, the friends set up a cozy campfire on the beach, the sun dipping below the horizon, painting the sky in shades of orange and purple. They laughed and reminisced about their college antics, from all-nighters to epic pranks, while roasting marshmallows and sharing stories.\n",
    "\n",
    "The next day, they stumbled upon an old seaside café hosting a hackathon—perfect for their diverse skills! With a surge of excitement, they signed up, ready to put their talents to the test. The challenge was to create an app that promoted sustainable tourism.\n",
    "\n",
    "Maya sketched a vibrant interface, Jake dived into the code, and Lina crafted the pitch. As they worked together, their unique strengths blended seamlessly, fueling their creativity. They stayed up late, fueled by caffeine and camaraderie, bouncing ideas off each other as they created something extraordinary.\n",
    "\n",
    "On the final day, they presented their app, “EcoExplorer,” which encouraged users to discover eco-friendly activities in their area. To their delight, they won the hackathon, earning not just a prize but also a deeper bond forged in creativity and teamwork.\n",
    "\n",
    "As they celebrated with ice cream on the beach, they reflected on how their friendship had blossomed through shared passions and adventures. They promised to support each other in their careers, no matter where life took them.\n",
    "\n",
    "With laughter echoing against the waves, they realized that the true treasure of their vacation wasn’t just the win, but the memories they had created together—friends forever, no matter the distance.\n",
    "\"\"\""
   ]
  },
  {
   "cell_type": "code",
   "execution_count": null,
   "id": "b54757e1",
   "metadata": {},
   "outputs": [],
   "source": [
    "response = client.chat.completions.create(\n",
    "    model='qwen2.5:14b-instruct-q5_K_M',\n",
    "    messages=[{'role': 'user', 'content': \n",
    "        text}],\n",
    "\n",
    "# provide a character details extraction tool to the model\n",
    "    tools=[{\n",
    "      'type': 'function',\n",
    "      'function': {\n",
    "        'name': 'get_character_info',\n",
    "        'description': 'Get the characters information from the story',\n",
    "        'parameters': {\n",
    "          'type': 'object',\n",
    "          'properties': {\n",
    "            'name': {\n",
    "              'type': 'string',\n",
    "              'description': 'Name',\n",
    "            },\n",
    "              'location': {\n",
    "                  'type': 'string',\n",
    "                  'description': 'Location',\n",
    "              },\n",
    "              'occupation': {\n",
    "                  'type': 'string',\n",
    "                  'description': 'Occupation'\n",
    "              }\n",
    "          },\n",
    "          'required': ['name', 'location', 'occupation'],\n",
    "        },\n",
    "      },\n",
    "    },\n",
    "  ],\n",
    ")\n"
   ]
  },
  {
   "cell_type": "code",
   "execution_count": null,
   "id": "5004f30d",
   "metadata": {},
   "outputs": [],
   "source": [
    "# this will print only first record\n",
    "#print(response.choices[0].message.tool_calls[0].function.arguments)"
   ]
  },
  {
   "cell_type": "code",
   "execution_count": null,
   "id": "66b92e50",
   "metadata": {
    "scrolled": true
   },
   "outputs": [],
   "source": [
    "#print(response)"
   ]
  },
  {
   "cell_type": "code",
   "execution_count": 17,
   "id": "c40b81cb",
   "metadata": {},
   "outputs": [
    {
     "name": "stdout",
     "output_type": "stream",
     "text": [
      "[{'location': 'Mumbai', 'name': 'Maya', 'occupation': 'graphic designer'}, {'location': 'Austin', 'name': 'Jake', 'occupation': 'software developer'}, {'location': 'Toronto', 'name': 'Lina', 'occupation': 'marketing strategist'}]\n"
     ]
    }
   ],
   "source": [
    "#storing the information in a dictionary format\n",
    "\n",
    "character_info = []\n",
    "\n",
    "for tool_call in response.choices[0].message.tool_calls:\n",
    "    # Parse the JSON string into a dictionary\n",
    "    arguments = json.loads(tool_call.function.arguments)\n",
    "    character_info.append(arguments)\n",
    "\n",
    "# Now character_info is a list of dictionaries\n",
    "print(character_info)\n"
   ]
  },
  {
   "cell_type": "code",
   "execution_count": 18,
   "id": "aa799202",
   "metadata": {},
   "outputs": [
    {
     "name": "stdout",
     "output_type": "stream",
     "text": [
      "[{\"location\": \"Mumbai\", \"name\": \"Maya\", \"occupation\": \"graphic designer\"}, {\"location\": \"Austin\", \"name\": \"Jake\", \"occupation\": \"software developer\"}, {\"location\": \"Toronto\", \"name\": \"Lina\", \"occupation\": \"marketing strategist\"}]\n"
     ]
    }
   ],
   "source": [
    "#storing the information in a json format\n",
    "\n",
    "character_info = []\n",
    "\n",
    "for tool_call in response.choices[0].message.tool_calls:\n",
    "    # Parse the JSON string into a dictionary\n",
    "    arguments = json.loads(tool_call.function.arguments)\n",
    "    character_info.append(arguments)\n",
    "\n",
    "# Convert the list of dictionaries to a JSON string\n",
    "character_info_json = json.dumps(character_info)\n",
    "\n",
    "# Now character_info_json is a JSON string\n",
    "print(character_info_json)\n"
   ]
  },
  {
   "cell_type": "code",
   "execution_count": null,
   "id": "3c59cefd",
   "metadata": {},
   "outputs": [],
   "source": []
  }
 ],
 "metadata": {
  "kernelspec": {
   "display_name": "Python 3 (ipykernel)",
   "language": "python",
   "name": "python3"
  },
  "language_info": {
   "codemirror_mode": {
    "name": "ipython",
    "version": 3
   },
   "file_extension": ".py",
   "mimetype": "text/x-python",
   "name": "python",
   "nbconvert_exporter": "python",
   "pygments_lexer": "ipython3",
   "version": "3.11.5"
  }
 },
 "nbformat": 4,
 "nbformat_minor": 5
}
